{
 "cells": [
  {
   "cell_type": "code",
   "execution_count": 18,
   "id": "f0a5950f",
   "metadata": {
    "colab": {
     "base_uri": "https://localhost:8080/",
     "height": 488
    },
    "id": "f0a5950f",
    "outputId": "1d3ebe80-78bf-4a56-a853-ce82fc3ce87a"
   },
   "outputs": [
    {
     "data": {
      "text/html": [
       "<div>\n",
       "<style scoped>\n",
       "    .dataframe tbody tr th:only-of-type {\n",
       "        vertical-align: middle;\n",
       "    }\n",
       "\n",
       "    .dataframe tbody tr th {\n",
       "        vertical-align: top;\n",
       "    }\n",
       "\n",
       "    .dataframe thead th {\n",
       "        text-align: right;\n",
       "    }\n",
       "</style>\n",
       "<table border=\"1\" class=\"dataframe\">\n",
       "  <thead>\n",
       "    <tr style=\"text-align: right;\">\n",
       "      <th></th>\n",
       "      <th>age</th>\n",
       "      <th>income</th>\n",
       "      <th>student</th>\n",
       "      <th>credit_rating</th>\n",
       "      <th>buys_computer</th>\n",
       "    </tr>\n",
       "  </thead>\n",
       "  <tbody>\n",
       "    <tr>\n",
       "      <th>0</th>\n",
       "      <td>1</td>\n",
       "      <td>0</td>\n",
       "      <td>0</td>\n",
       "      <td>1</td>\n",
       "      <td>0</td>\n",
       "    </tr>\n",
       "    <tr>\n",
       "      <th>1</th>\n",
       "      <td>1</td>\n",
       "      <td>0</td>\n",
       "      <td>0</td>\n",
       "      <td>0</td>\n",
       "      <td>0</td>\n",
       "    </tr>\n",
       "    <tr>\n",
       "      <th>2</th>\n",
       "      <td>0</td>\n",
       "      <td>0</td>\n",
       "      <td>0</td>\n",
       "      <td>1</td>\n",
       "      <td>1</td>\n",
       "    </tr>\n",
       "    <tr>\n",
       "      <th>3</th>\n",
       "      <td>2</td>\n",
       "      <td>2</td>\n",
       "      <td>0</td>\n",
       "      <td>1</td>\n",
       "      <td>1</td>\n",
       "    </tr>\n",
       "    <tr>\n",
       "      <th>4</th>\n",
       "      <td>2</td>\n",
       "      <td>1</td>\n",
       "      <td>1</td>\n",
       "      <td>1</td>\n",
       "      <td>1</td>\n",
       "    </tr>\n",
       "    <tr>\n",
       "      <th>5</th>\n",
       "      <td>2</td>\n",
       "      <td>1</td>\n",
       "      <td>1</td>\n",
       "      <td>0</td>\n",
       "      <td>0</td>\n",
       "    </tr>\n",
       "    <tr>\n",
       "      <th>6</th>\n",
       "      <td>0</td>\n",
       "      <td>1</td>\n",
       "      <td>1</td>\n",
       "      <td>0</td>\n",
       "      <td>1</td>\n",
       "    </tr>\n",
       "    <tr>\n",
       "      <th>7</th>\n",
       "      <td>1</td>\n",
       "      <td>2</td>\n",
       "      <td>0</td>\n",
       "      <td>1</td>\n",
       "      <td>0</td>\n",
       "    </tr>\n",
       "    <tr>\n",
       "      <th>8</th>\n",
       "      <td>1</td>\n",
       "      <td>1</td>\n",
       "      <td>1</td>\n",
       "      <td>1</td>\n",
       "      <td>1</td>\n",
       "    </tr>\n",
       "    <tr>\n",
       "      <th>9</th>\n",
       "      <td>2</td>\n",
       "      <td>2</td>\n",
       "      <td>1</td>\n",
       "      <td>1</td>\n",
       "      <td>1</td>\n",
       "    </tr>\n",
       "    <tr>\n",
       "      <th>10</th>\n",
       "      <td>1</td>\n",
       "      <td>2</td>\n",
       "      <td>1</td>\n",
       "      <td>0</td>\n",
       "      <td>1</td>\n",
       "    </tr>\n",
       "    <tr>\n",
       "      <th>11</th>\n",
       "      <td>0</td>\n",
       "      <td>2</td>\n",
       "      <td>0</td>\n",
       "      <td>0</td>\n",
       "      <td>1</td>\n",
       "    </tr>\n",
       "    <tr>\n",
       "      <th>12</th>\n",
       "      <td>0</td>\n",
       "      <td>0</td>\n",
       "      <td>1</td>\n",
       "      <td>1</td>\n",
       "      <td>1</td>\n",
       "    </tr>\n",
       "    <tr>\n",
       "      <th>13</th>\n",
       "      <td>2</td>\n",
       "      <td>2</td>\n",
       "      <td>0</td>\n",
       "      <td>0</td>\n",
       "      <td>0</td>\n",
       "    </tr>\n",
       "  </tbody>\n",
       "</table>\n",
       "</div>"
      ],
      "text/plain": [
       "    age  income  student  credit_rating  buys_computer\n",
       "0     1       0        0              1              0\n",
       "1     1       0        0              0              0\n",
       "2     0       0        0              1              1\n",
       "3     2       2        0              1              1\n",
       "4     2       1        1              1              1\n",
       "5     2       1        1              0              0\n",
       "6     0       1        1              0              1\n",
       "7     1       2        0              1              0\n",
       "8     1       1        1              1              1\n",
       "9     2       2        1              1              1\n",
       "10    1       2        1              0              1\n",
       "11    0       2        0              0              1\n",
       "12    0       0        1              1              1\n",
       "13    2       2        0              0              0"
      ]
     },
     "execution_count": 18,
     "metadata": {},
     "output_type": "execute_result"
    }
   ],
   "source": [
    "import pandas as pd\n",
    "import numpy as np\n",
    "from sklearn.model_selection import train_test_split\n",
    "import matplotlib.pyplot as plt\n",
    "df=pd.read_csv('buys_comp_dataset.csv')\n",
    "df0=pd.read_csv('buys_comp_dataset.csv')\n",
    "df"
   ]
  },
  {
   "cell_type": "code",
   "execution_count": 16,
   "id": "44961ab7",
   "metadata": {},
   "outputs": [
    {
     "data": {
      "text/html": [
       "<div>\n",
       "<style scoped>\n",
       "    .dataframe tbody tr th:only-of-type {\n",
       "        vertical-align: middle;\n",
       "    }\n",
       "\n",
       "    .dataframe tbody tr th {\n",
       "        vertical-align: top;\n",
       "    }\n",
       "\n",
       "    .dataframe thead th {\n",
       "        text-align: right;\n",
       "    }\n",
       "</style>\n",
       "<table border=\"1\" class=\"dataframe\">\n",
       "  <thead>\n",
       "    <tr style=\"text-align: right;\">\n",
       "      <th></th>\n",
       "      <th>age</th>\n",
       "      <th>income</th>\n",
       "      <th>student</th>\n",
       "      <th>credit_rating</th>\n",
       "      <th>buys_computer</th>\n",
       "    </tr>\n",
       "  </thead>\n",
       "  <tbody>\n",
       "    <tr>\n",
       "      <th>0</th>\n",
       "      <td>1</td>\n",
       "      <td>0</td>\n",
       "      <td>0</td>\n",
       "      <td>1</td>\n",
       "      <td>0</td>\n",
       "    </tr>\n",
       "    <tr>\n",
       "      <th>1</th>\n",
       "      <td>1</td>\n",
       "      <td>0</td>\n",
       "      <td>0</td>\n",
       "      <td>0</td>\n",
       "      <td>0</td>\n",
       "    </tr>\n",
       "    <tr>\n",
       "      <th>2</th>\n",
       "      <td>0</td>\n",
       "      <td>0</td>\n",
       "      <td>0</td>\n",
       "      <td>1</td>\n",
       "      <td>1</td>\n",
       "    </tr>\n",
       "    <tr>\n",
       "      <th>3</th>\n",
       "      <td>2</td>\n",
       "      <td>2</td>\n",
       "      <td>0</td>\n",
       "      <td>1</td>\n",
       "      <td>1</td>\n",
       "    </tr>\n",
       "    <tr>\n",
       "      <th>4</th>\n",
       "      <td>2</td>\n",
       "      <td>1</td>\n",
       "      <td>1</td>\n",
       "      <td>1</td>\n",
       "      <td>1</td>\n",
       "    </tr>\n",
       "    <tr>\n",
       "      <th>5</th>\n",
       "      <td>2</td>\n",
       "      <td>1</td>\n",
       "      <td>1</td>\n",
       "      <td>0</td>\n",
       "      <td>0</td>\n",
       "    </tr>\n",
       "    <tr>\n",
       "      <th>6</th>\n",
       "      <td>0</td>\n",
       "      <td>1</td>\n",
       "      <td>1</td>\n",
       "      <td>0</td>\n",
       "      <td>1</td>\n",
       "    </tr>\n",
       "    <tr>\n",
       "      <th>7</th>\n",
       "      <td>1</td>\n",
       "      <td>2</td>\n",
       "      <td>0</td>\n",
       "      <td>1</td>\n",
       "      <td>0</td>\n",
       "    </tr>\n",
       "    <tr>\n",
       "      <th>8</th>\n",
       "      <td>1</td>\n",
       "      <td>1</td>\n",
       "      <td>1</td>\n",
       "      <td>1</td>\n",
       "      <td>1</td>\n",
       "    </tr>\n",
       "    <tr>\n",
       "      <th>9</th>\n",
       "      <td>2</td>\n",
       "      <td>2</td>\n",
       "      <td>1</td>\n",
       "      <td>1</td>\n",
       "      <td>1</td>\n",
       "    </tr>\n",
       "    <tr>\n",
       "      <th>10</th>\n",
       "      <td>1</td>\n",
       "      <td>2</td>\n",
       "      <td>1</td>\n",
       "      <td>0</td>\n",
       "      <td>1</td>\n",
       "    </tr>\n",
       "    <tr>\n",
       "      <th>11</th>\n",
       "      <td>0</td>\n",
       "      <td>2</td>\n",
       "      <td>0</td>\n",
       "      <td>0</td>\n",
       "      <td>1</td>\n",
       "    </tr>\n",
       "    <tr>\n",
       "      <th>12</th>\n",
       "      <td>0</td>\n",
       "      <td>0</td>\n",
       "      <td>1</td>\n",
       "      <td>1</td>\n",
       "      <td>1</td>\n",
       "    </tr>\n",
       "    <tr>\n",
       "      <th>13</th>\n",
       "      <td>2</td>\n",
       "      <td>2</td>\n",
       "      <td>0</td>\n",
       "      <td>0</td>\n",
       "      <td>0</td>\n",
       "    </tr>\n",
       "  </tbody>\n",
       "</table>\n",
       "</div>"
      ],
      "text/plain": [
       "    age  income  student  credit_rating  buys_computer\n",
       "0     1       0        0              1              0\n",
       "1     1       0        0              0              0\n",
       "2     0       0        0              1              1\n",
       "3     2       2        0              1              1\n",
       "4     2       1        1              1              1\n",
       "5     2       1        1              0              0\n",
       "6     0       1        1              0              1\n",
       "7     1       2        0              1              0\n",
       "8     1       1        1              1              1\n",
       "9     2       2        1              1              1\n",
       "10    1       2        1              0              1\n",
       "11    0       2        0              0              1\n",
       "12    0       0        1              1              1\n",
       "13    2       2        0              0              0"
      ]
     },
     "execution_count": 16,
     "metadata": {},
     "output_type": "execute_result"
    }
   ],
   "source": [
    "from sklearn import preprocessing\n",
    "label_encoder = preprocessing.LabelEncoder()\n",
    "df[\"age\"] = label_encoder.fit_transform(df[\"age\"])\n",
    "df[\"income\"] = label_encoder.fit_transform(df[\"income\"])\n",
    "df[\"student\"] = label_encoder.fit_transform(df[\"student\"])\n",
    "df[\"credit_rating\"] = label_encoder.fit_transform(df[\"credit_rating\"])\n",
    "df[\"buys_computer\"] = label_encoder.fit_transform(df[\"buys_computer\"])\n",
    "\n",
    "\n",
    "df.to_csv('buys_comp_dataset.csv')\n",
    "\n",
    "df"
   ]
  },
  {
   "cell_type": "markdown",
   "id": "e3523c83",
   "metadata": {
    "id": "e3523c83"
   },
   "source": [
    "### A1"
   ]
  },
  {
   "cell_type": "code",
   "execution_count": 19,
   "id": "2fde4791",
   "metadata": {
    "colab": {
     "base_uri": "https://localhost:8080/"
    },
    "id": "2fde4791",
    "outputId": "f89c2df5-1411-4c58-906c-cd29cf6bb32e"
   },
   "outputs": [
    {
     "name": "stdout",
     "output_type": "stream",
     "text": [
      "[0.6428571428571429, 0.35714285714285715]\n"
     ]
    }
   ],
   "source": [
    "dout = (df['buys_computer']).value_counts()\n",
    "total_count = df['buys_computer'].count()\n",
    "probability=[(dout[1]/total_count),(dout[0]/total_count)]\n",
    "print(probability)"
   ]
  },
  {
   "cell_type": "markdown",
   "id": "22d1bb94",
   "metadata": {
    "id": "22d1bb94"
   },
   "source": [
    "### A2"
   ]
  },
  {
   "cell_type": "code",
   "execution_count": null,
   "id": "b0466a7c",
   "metadata": {
    "colab": {
     "base_uri": "https://localhost:8080/"
    },
    "id": "b0466a7c",
    "outputId": "85f6aae5-bd57-4d25-f18a-c0314e381a9e"
   },
   "outputs": [],
   "source": [
    "df1=df0.loc[df0['buys_computer'] == 'yes']\n",
    "df2=df0.loc[df0['buys_computer'] == 'no']\n",
    "\n",
    "# Age\n",
    "age1=[df1.loc[df1['age']== 0].shape[0]/df1.shape[0],df1.loc[df1['age']== 1].shape[0]/df1.shape[0],df1.loc[df1['age']== 2].shape[0]/df1.shape[0]]\n",
    "age2=[df2.loc[df2['age']== 0].shape[0]/df2.shape[0],df2.loc[df2['age']== 1].shape[0]/df2.shape[0],df2.loc[df2['age']== 2].shape[0]/df2.shape[0]]\n",
    "print(age1)\n",
    "print(age2)\n",
    "\n",
    "#income\n",
    "inc1=[df1.loc[df1['income']== 'low'].shape[0]/df1.shape[0],df1.loc[df1['income']== 'medium'].shape[0]/df1.shape[0],df1.loc[df1['income']== 'high'].shape[0]/df.shape[0]]\n",
    "inc2=[df2.loc[df2['income']== 'low'].shape[0]/df2.shape[0],df2.loc[df2['income']== 'medium'].shape[0]/df2.shape[0],df2.loc[df2['income']== 'high'].shape[0]/df1.shape[0]]\n",
    "print(inc1)\n",
    "print(inc2)\n",
    "\n",
    "\n"
   ]
  },
  {
   "cell_type": "code",
   "execution_count": null,
   "id": "SRgSoDsjEBR6",
   "metadata": {
    "colab": {
     "base_uri": "https://localhost:8080/"
    },
    "id": "SRgSoDsjEBR6",
    "outputId": "036a0798-954d-4518-aac4-109c87d695c1"
   },
   "outputs": [],
   "source": [
    "#Student\n",
    "stu1=[df1.loc[df1['student']== 'yes'].shape[0]/df1.shape[0],df1.loc[df1['student']== 'no'].shape[0]/df1.shape[0]]\n",
    "stu2=[df2.loc[df2['student']== 'yes'].shape[0]/df2.shape[0],df2.loc[df2['student']== 'no'].shape[0]/df2.shape[0]]\n",
    "print(stu1)\n",
    "print(stu2)\n",
    "\n",
    "\n",
    "\n",
    "#Credit_rating\n",
    "cred1=[df1.loc[df1['credit_rating']== 'excellent'].shape[0]/df1.shape[0],df1.loc[df1['credit_rating']== 'fair'].shape[0]/df1.shape[0]]\n",
    "cred2=[df2.loc[df2['credit_rating']== 'excellent'].shape[0]/df2.shape[0],df2.loc[df2['credit_rating']== 'fair'].shape[0]/df2.shape[0]]\n",
    "print(cred1)\n",
    "print(cred2)\n",
    "\n",
    "\n",
    "\n",
    "\n"
   ]
  },
  {
   "cell_type": "markdown",
   "id": "860c2da0",
   "metadata": {
    "id": "860c2da0"
   },
   "source": [
    "### A3"
   ]
  },
  {
   "cell_type": "code",
   "execution_count": 22,
   "id": "3899df92",
   "metadata": {
    "colab": {
     "base_uri": "https://localhost:8080/"
    },
    "id": "3899df92",
    "outputId": "bcd5e898-fac1-4402-a032-35a9407a3cb3"
   },
   "outputs": [
    {
     "name": "stdout",
     "output_type": "stream",
     "text": [
      "[[21, 8, 9], [8, 8], [4], []]\n"
     ]
    }
   ],
   "source": [
    "\n",
    "\n",
    "matrix=[]\n",
    "arr=[]\n",
    "for i in range(0,4):\n",
    "  arr.append(df.iloc[:,i].to_numpy())\n",
    "for i in range(0,4):\n",
    "  mat=[]\n",
    "  for j in range(i+1,4):\n",
    "    mat.append(np.dot(arr[i],arr[j]))\n",
    "  matrix.append(mat)\n",
    "\n",
    "print(matrix)\n",
    "\n"
   ]
  },
  {
   "cell_type": "markdown",
   "id": "d9af9e87",
   "metadata": {
    "id": "d9af9e87"
   },
   "source": [
    "### A4"
   ]
  },
  {
   "cell_type": "code",
   "execution_count": 23,
   "id": "4085f45f",
   "metadata": {
    "id": "4085f45f"
   },
   "outputs": [],
   "source": [
    "\n",
    "\n",
    "from sklearn.model_selection import train_test_split\n",
    "from sklearn.naive_bayes import GaussianNB\n",
    "train_data=df.iloc[:,:-1]\n",
    "y=df.iloc[:,-1]\n",
    "train_x,test_x,train_y,test_y = train_test_split(train_data,y,test_size=0.3)"
   ]
  },
  {
   "cell_type": "code",
   "execution_count": 24,
   "id": "HFkKTeQ1HqJP",
   "metadata": {
    "colab": {
     "base_uri": "https://localhost:8080/"
    },
    "id": "HFkKTeQ1HqJP",
    "outputId": "b883a1d3-24c6-4987-cae5-cfac5504e846"
   },
   "outputs": [
    {
     "data": {
      "text/plain": [
       "0.4"
      ]
     },
     "execution_count": 24,
     "metadata": {},
     "output_type": "execute_result"
    }
   ],
   "source": [
    "model = GaussianNB()\n",
    "model.fit(train_x,train_y)\n",
    "model.score(test_x,test_y)"
   ]
  },
  {
   "cell_type": "markdown",
   "id": "a265d883-7125-445e-a325-2bc454434eac",
   "metadata": {},
   "source": [
    "### A5"
   ]
  },
  {
   "cell_type": "code",
   "execution_count": null,
   "id": "dce0a598-0512-4a5a-9a5c-d3d25604937d",
   "metadata": {},
   "outputs": [],
   "source": [
    "import pandas as pd\n",
    "from sklearn.model_selection import train_test_split\n",
    "from sklearn.naive_bayes import GaussianNB\n",
    "from sklearn.metrics import accuracy_score, classification_report\n",
    "\n",
    "data = pd.read_excel('embeddingsdata.xlsx')\n",
    "\n",
    "X = data.iloc[:, :-1]  # Features\n",
    "y = data.iloc[:, -1]   # Target variable\n",
    "\n",
    "X_train, X_test, y_train, y_test = train_test_split(X, y, test_size=0.2, random_state=42)\n",
    "\n",
    "classifier = GaussianNB()\n",
    "\n",
    "classifier.fit(X_train, y_train)\n",
    "\n",
    "predictions = classifier.predict(X_test)\n",
    "\n",
    "# Evaluating the classifier\n",
    "accuracy = accuracy_score(y_test, predictions)\n",
    "print(f\"Accuracy: {accuracy:.2f}\")\n",
    "\n",
    "# Printing classification report\n",
    "print(classification_report(y_test, predictions))\n"
   ]
  },
  {
   "cell_type": "code",
   "execution_count": null,
   "id": "7cf77014-8257-4df8-84fe-5fa69bd41c52",
   "metadata": {},
   "outputs": [],
   "source": []
  }
 ],
 "metadata": {
  "colab": {
   "provenance": []
  },
  "kernelspec": {
   "display_name": "Python 3 (ipykernel)",
   "language": "python",
   "name": "python3"
  },
  "language_info": {
   "codemirror_mode": {
    "name": "ipython",
    "version": 3
   },
   "file_extension": ".py",
   "mimetype": "text/x-python",
   "name": "python",
   "nbconvert_exporter": "python",
   "pygments_lexer": "ipython3",
   "version": "3.11.1"
  },
  "vscode": {
   "interpreter": {
    "hash": "e7420c16fed80ca44bc7227413fb390036ba73eba4a8216c7e659bd6f2f9b1f1"
   }
  }
 },
 "nbformat": 4,
 "nbformat_minor": 5
}
